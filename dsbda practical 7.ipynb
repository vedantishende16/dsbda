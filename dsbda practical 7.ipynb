{
 "cells": [
  {
   "cell_type": "code",
   "execution_count": 2,
   "id": "95c2628a-cd20-4f80-bd24-31dcf523cbe6",
   "metadata": {},
   "outputs": [
    {
     "name": "stdout",
     "output_type": "stream",
     "text": [
      "Requirement already satisfied: nltk in c:\\users\\hp\\anaconda3\\lib\\site-packages (3.9.1)\n",
      "Requirement already satisfied: click in c:\\users\\hp\\anaconda3\\lib\\site-packages (from nltk) (8.1.7)\n",
      "Requirement already satisfied: joblib in c:\\users\\hp\\anaconda3\\lib\\site-packages (from nltk) (1.4.2)\n",
      "Requirement already satisfied: regex>=2021.8.3 in c:\\users\\hp\\anaconda3\\lib\\site-packages (from nltk) (2024.9.11)\n",
      "Requirement already satisfied: tqdm in c:\\users\\hp\\anaconda3\\lib\\site-packages (from nltk) (4.66.5)\n",
      "Requirement already satisfied: colorama in c:\\users\\hp\\anaconda3\\lib\\site-packages (from click->nltk) (0.4.6)\n",
      "Note: you may need to restart the kernel to use updated packages.\n"
     ]
    }
   ],
   "source": [
    "%pip install nltk"
   ]
  },
  {
   "cell_type": "code",
   "execution_count": 4,
   "id": "c88e791f-462b-4331-abe3-30603970cc06",
   "metadata": {},
   "outputs": [],
   "source": [
    "import nltk\n",
    "from nltk.tokenize import sent_tokenize, word_tokenize\n",
    "from nltk.corpus import stopwords\n",
    "from nltk.stem import PorterStemmer, WordNetLemmatizer\n",
    "import re\n"
   ]
  },
  {
   "cell_type": "code",
   "execution_count": 8,
   "id": "8c2de037-2b32-43a9-8674-62f3a4c8750e",
   "metadata": {},
   "outputs": [
    {
     "name": "stderr",
     "output_type": "stream",
     "text": [
      "[nltk_data] Downloading package punkt_tab to\n",
      "[nltk_data]     C:\\Users\\HP\\AppData\\Roaming\\nltk_data...\n",
      "[nltk_data]   Unzipping tokenizers\\punkt_tab.zip.\n",
      "[nltk_data] Downloading package stopwords to\n",
      "[nltk_data]     C:\\Users\\HP\\AppData\\Roaming\\nltk_data...\n",
      "[nltk_data]   Package stopwords is already up-to-date!\n",
      "[nltk_data] Downloading package wordnet to\n",
      "[nltk_data]     C:\\Users\\HP\\AppData\\Roaming\\nltk_data...\n",
      "[nltk_data]   Package wordnet is already up-to-date!\n",
      "[nltk_data] Downloading package averaged_perceptron_tagger_eng to\n",
      "[nltk_data]     C:\\Users\\HP\\AppData\\Roaming\\nltk_data...\n",
      "[nltk_data]   Unzipping taggers\\averaged_perceptron_tagger_eng.zip.\n"
     ]
    },
    {
     "data": {
      "text/plain": [
       "True"
      ]
     },
     "execution_count": 8,
     "metadata": {},
     "output_type": "execute_result"
    }
   ],
   "source": [
    "# Step 1: Download required NLTK packages (handles missing resources)\n",
    "nltk.download('punkt_tab')\n",
    "nltk.download('stopwords')\n",
    "nltk.download('wordnet')\n",
    "nltk.download('averaged_perceptron_tagger_eng')"
   ]
  },
  {
   "cell_type": "code",
   "execution_count": 10,
   "id": "e45cba71-83c9-4a45-a53d-12379fd38d47",
   "metadata": {},
   "outputs": [],
   "source": [
    "# Step 2: Initialize text\n",
    "text = \"Tokenization is the first step in text analytics. The process of breaking down a text paragraph into smaller chunks such as words or sentences is called Tokenization.\""
   ]
  },
  {
   "cell_type": "code",
   "execution_count": 14,
   "id": "8ce1b73b-08c4-4c79-a8a0-8c2482aafe1b",
   "metadata": {},
   "outputs": [
    {
     "name": "stdout",
     "output_type": "stream",
     "text": [
      "\n",
      "--- Tokenization ---\n",
      "Sentences: ['Tokenization is the first step in text analytics.', 'The process of breaking down a text paragraph into smaller chunks such as words or sentences is called Tokenization.']\n",
      "Words: ['Tokenization', 'is', 'the', 'first', 'step', 'in', 'text', 'analytics', '.', 'The', 'process', 'of', 'breaking', 'down', 'a', 'text', 'paragraph', 'into', 'smaller', 'chunks', 'such', 'as', 'words', 'or', 'sentences', 'is', 'called', 'Tokenization', '.']\n"
     ]
    }
   ],
   "source": [
    "# Step 3: Perform Tokenization\n",
    "print(\"\\n--- Tokenization ---\")\n",
    "tokenized_sentences = sent_tokenize(text)  # Sentence Tokenization\n",
    "tokenized_words = word_tokenize(text)  # Word Tokenization\n",
    "print(\"Sentences:\", tokenized_sentences)\n",
    "print(\"Words:\", tokenized_words)"
   ]
  },
  {
   "cell_type": "code",
   "execution_count": 16,
   "id": "cdce92aa-2993-496b-a27f-520f7bc474fa",
   "metadata": {},
   "outputs": [],
   "source": [
    "# Step 4: Removing Punctuation & Stop Words\n",
    "stop_words = set(stopwords.words(\"english\"))"
   ]
  },
  {
   "cell_type": "code",
   "execution_count": 18,
   "id": "7ebfab24-ae27-4d1c-a32c-8a6687590661",
   "metadata": {},
   "outputs": [],
   "source": [
    "# Remove punctuation and lowercase the text\n",
    "clean_text = re.sub(r'[^\\w\\s]', '', text.lower())"
   ]
  },
  {
   "cell_type": "code",
   "execution_count": 20,
   "id": "55e675b8-ac9f-47e4-9ba5-9b358345c403",
   "metadata": {},
   "outputs": [],
   "source": [
    "# Tokenize and remove stopwords\n",
    "filtered_words = [word for word in word_tokenize(clean_text) if word not in stop_words]"
   ]
  },
  {
   "cell_type": "code",
   "execution_count": 22,
   "id": "4d544120-a19a-4f29-8a7e-25d651ad45a2",
   "metadata": {},
   "outputs": [
    {
     "name": "stdout",
     "output_type": "stream",
     "text": [
      "\n",
      "--- Stopword Removal ---\n",
      "Filtered Words: ['tokenization', 'first', 'step', 'text', 'analytics', 'process', 'breaking', 'text', 'paragraph', 'smaller', 'chunks', 'words', 'sentences', 'called', 'tokenization']\n"
     ]
    }
   ],
   "source": [
    "print(\"\\n--- Stopword Removal ---\")\n",
    "print(\"Filtered Words:\", filtered_words)"
   ]
  },
  {
   "cell_type": "code",
   "execution_count": 24,
   "id": "a1225829-b70c-4f5b-ba6e-ddcac6c868f7",
   "metadata": {},
   "outputs": [],
   "source": [
    "# Step 5: Perform Stemming\n",
    "ps = PorterStemmer()\n",
    "sample_words = [\"wait\", \"waiting\", \"waited\", \"waits\"]"
   ]
  },
  {
   "cell_type": "code",
   "execution_count": 26,
   "id": "95e29462-8cbe-4ffc-9ab3-abe1de8048d2",
   "metadata": {},
   "outputs": [
    {
     "name": "stdout",
     "output_type": "stream",
     "text": [
      "\n",
      "--- Stemming ---\n",
      "['wait', 'wait', 'wait', 'wait']\n"
     ]
    }
   ],
   "source": [
    "print(\"\\n--- Stemming ---\")\n",
    "print([ps.stem(word) for word in sample_words])"
   ]
  },
  {
   "cell_type": "code",
   "execution_count": 28,
   "id": "054c315d-f93a-44e9-b923-3ad6398ede6a",
   "metadata": {},
   "outputs": [],
   "source": [
    "# Step 6: Perform Lemmatization\n",
    "lemmatizer = WordNetLemmatizer()\n",
    "lem_words = [\"studies\", \"studying\", \"cries\", \"cry\"]"
   ]
  },
  {
   "cell_type": "code",
   "execution_count": 30,
   "id": "ddcf0a6e-d4ad-4b78-98b9-490a4b74bdd1",
   "metadata": {},
   "outputs": [
    {
     "name": "stdout",
     "output_type": "stream",
     "text": [
      "\n",
      "--- Lemmatization ---\n",
      "['study', 'studying', 'cry', 'cry']\n"
     ]
    }
   ],
   "source": [
    "print(\"\\n--- Lemmatization ---\")\n",
    "print([lemmatizer.lemmatize(word) for word in lem_words])"
   ]
  },
  {
   "cell_type": "code",
   "execution_count": 32,
   "id": "9d98375f-94a7-4c2f-b484-aee8369bee9d",
   "metadata": {},
   "outputs": [],
   "source": [
    "# Step 7: Apply POS Tagging\n",
    "data = \"The pink sweater fit her perfectly\"\n",
    "words = word_tokenize(data)"
   ]
  },
  {
   "cell_type": "code",
   "execution_count": 34,
   "id": "03eab431-1b05-4be8-a747-5d20f72f7ce5",
   "metadata": {},
   "outputs": [
    {
     "name": "stdout",
     "output_type": "stream",
     "text": [
      "\n",
      "--- POS Tagging ---\n",
      "[('The', 'DT'), ('pink', 'NN'), ('sweater', 'NN'), ('fit', 'VBP'), ('her', 'PRP$'), ('perfectly', 'RB')]\n"
     ]
    }
   ],
   "source": [
    "print(\"\\n--- POS Tagging ---\")\n",
    "print(nltk.pos_tag(words))"
   ]
  },
  {
   "cell_type": "code",
   "execution_count": null,
   "id": "c5a535f5-5ef5-4d27-b433-3eac88298f36",
   "metadata": {},
   "outputs": [],
   "source": []
  }
 ],
 "metadata": {
  "kernelspec": {
   "display_name": "Python [conda env:base] *",
   "language": "python",
   "name": "conda-base-py"
  },
  "language_info": {
   "codemirror_mode": {
    "name": "ipython",
    "version": 3
   },
   "file_extension": ".py",
   "mimetype": "text/x-python",
   "name": "python",
   "nbconvert_exporter": "python",
   "pygments_lexer": "ipython3",
   "version": "3.12.7"
  }
 },
 "nbformat": 4,
 "nbformat_minor": 5
}
