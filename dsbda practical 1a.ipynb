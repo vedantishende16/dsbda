{
 "cells": [
  {
   "cell_type": "code",
   "execution_count": 2,
   "id": "aebbbcbc-7690-44a2-9522-ca89db627ab8",
   "metadata": {},
   "outputs": [],
   "source": [
    "import numpy as np\n"
   ]
  },
  {
   "cell_type": "code",
   "execution_count": 4,
   "id": "3268bc7b-6e8b-4eda-b7d3-4eeaca1ea6b5",
   "metadata": {},
   "outputs": [],
   "source": [
    "# Player runs data (11 players, 5 matches each)\n",
    "runs = np.array([\n",
    "    [45, 50, 30, 60, 25],\n",
    "    [10, 15, 5, 20, 12],\n",
    "    [80, 60, 75, 100, 90],\n",
    "    [25, 30, 20, 35, 40],\n",
    "    [0, 5, 10, 0, 2],\n",
    "    [50, 55, 60, 65, 70],\n",
    "    [35, 40, 45, 50, 55],\n",
    "    [100, 110, 120, 115, 125],\n",
    "    [10, 12, 15, 10, 8],\n",
    "    [70, 80, 85, 90, 95],\n",
    "    [40, 45, 50, 55, 60]\n",
    "])"
   ]
  },
  {
   "cell_type": "code",
   "execution_count": 6,
   "id": "647b94c5-d835-48a6-8df3-95d05a4d1750",
   "metadata": {},
   "outputs": [],
   "source": [
    "#Total runs scored by each player\n",
    "total_runs = np.sum(runs, axis=1)"
   ]
  },
  {
   "cell_type": "code",
   "execution_count": 8,
   "id": "2626cb41-4fd6-4654-961c-ab66fcd4e1b6",
   "metadata": {},
   "outputs": [
    {
     "name": "stdout",
     "output_type": "stream",
     "text": [
      "Total runs by each player:\n",
      " [210  62 405 150  17 300 225 570  55 420 250]\n"
     ]
    }
   ],
   "source": [
    "print(\"Total runs by each player:\\n\", total_runs)"
   ]
  },
  {
   "cell_type": "code",
   "execution_count": 10,
   "id": "2d61a9d8-9f4d-46ac-a8d7-00bde2fa1073",
   "metadata": {},
   "outputs": [],
   "source": [
    "#Highest score made by any player in a single match\n",
    "highest_score = np.max(runs)"
   ]
  },
  {
   "cell_type": "code",
   "execution_count": 12,
   "id": "e165173c-ddf3-416a-9652-ac1b0e7bc388",
   "metadata": {},
   "outputs": [
    {
     "name": "stdout",
     "output_type": "stream",
     "text": [
      "\n",
      "Highest individual score in a match: 125\n"
     ]
    }
   ],
   "source": [
    "print(\"\\nHighest individual score in a match:\", highest_score)"
   ]
  },
  {
   "cell_type": "code",
   "execution_count": 14,
   "id": "716d63be-8566-4315-b93e-9ac44abcfb83",
   "metadata": {},
   "outputs": [],
   "source": [
    "# Average runs scored per match by each player\n",
    "average_runs = np.mean(runs, axis=1)\n"
   ]
  },
  {
   "cell_type": "code",
   "execution_count": 16,
   "id": "0e2759e4-171a-4c10-881d-a499e645d087",
   "metadata": {},
   "outputs": [
    {
     "name": "stdout",
     "output_type": "stream",
     "text": [
      "\n",
      "Average runs per match by each player:\n",
      " [ 42.   12.4  81.   30.    3.4  60.   45.  114.   11.   84.   50. ]\n"
     ]
    }
   ],
   "source": [
    "print(\"\\nAverage runs per match by each player:\\n\", average_runs)"
   ]
  },
  {
   "cell_type": "code",
   "execution_count": 4,
   "id": "f2100565-2b5c-4b19-9f19-46e226cef70b",
   "metadata": {},
   "outputs": [],
   "source": [
    "import numpy as np\n",
    "\n",
    "# Sales data: products (rows) x days (columns)\n",
    "sales_data = np.array([\n",
    "    [150, 200, 250, 300, 400, 350, 500],  # Product 1\n",
    "    [120, 180, 210, 240, 310, 280, 400],  # Product 2\n",
    "    [100, 130, 190, 220, 300, 270, 350],  # Product 3\n",
    "    [80,  90,  150, 180, 240, 220, 300],  # Product 4\n",
    "    [50,  60,  80,  100, 130, 120, 180]   # Product 5\n",
    "])"
   ]
  },
  {
   "cell_type": "code",
   "execution_count": 8,
   "id": "d326c76a-51b2-4b6c-bb91-dd2d2315a783",
   "metadata": {},
   "outputs": [
    {
     "name": "stdout",
     "output_type": "stream",
     "text": [
      "\n",
      "Shape of sales_data: (5, 7)\n"
     ]
    }
   ],
   "source": [
    "# 1. Shape of the array\n",
    "shape = sales_data.shape\n",
    "print(\"\\nShape of sales_data:\", shape)"
   ]
  },
  {
   "cell_type": "code",
   "execution_count": 10,
   "id": "6b11569f-c0a4-44d4-aad0-a54cb507b732",
   "metadata": {},
   "outputs": [
    {
     "name": "stdout",
     "output_type": "stream",
     "text": [
      "Number of dimensions: 2\n"
     ]
    }
   ],
   "source": [
    "# 2. Number of dimensions\n",
    "dimensions = sales_data.ndim\n",
    "print(\"Number of dimensions:\", dimensions)"
   ]
  },
  {
   "cell_type": "code",
   "execution_count": 12,
   "id": "03a33327-559a-4fff-8255-3131b45c0068",
   "metadata": {},
   "outputs": [
    {
     "name": "stdout",
     "output_type": "stream",
     "text": [
      "Data type of elements: int32\n"
     ]
    }
   ],
   "source": [
    "# 3. Data type of elements\n",
    "data_type = sales_data.dtype\n",
    "print(\"Data type of elements:\", data_type)"
   ]
  },
  {
   "cell_type": "code",
   "execution_count": 14,
   "id": "003d6f5c-9dee-420a-a620-56d9546737ab",
   "metadata": {},
   "outputs": [
    {
     "name": "stdout",
     "output_type": "stream",
     "text": [
      "Total number of elements: 35\n"
     ]
    }
   ],
   "source": [
    "# 4. Total number of elements\n",
    "total_elements = sales_data.size\n",
    "print(\"Total number of elements:\", total_elements)"
   ]
  },
  {
   "cell_type": "code",
   "execution_count": 16,
   "id": "ccc85209-0516-4dd3-92d9-065ab2056a6c",
   "metadata": {},
   "outputs": [
    {
     "name": "stdout",
     "output_type": "stream",
     "text": [
      "Total memory used (bytes): 140\n"
     ]
    }
   ],
   "source": [
    "# 5. Total memory used (in bytes)\n",
    "memory_bytes = sales_data.nbytes\n",
    "print(\"Total memory used (bytes):\", memory_bytes)"
   ]
  },
  {
   "cell_type": "code",
   "execution_count": 22,
   "id": "5a102bc1-cfa8-4e6a-a951-5b0dba82e94c",
   "metadata": {},
   "outputs": [
    {
     "name": "stdout",
     "output_type": "stream",
     "text": [
      "\n",
      "Product 3 on Day 4: 220\n",
      "All sales for Product 1: [150 200 250 300 400 350 500]\n",
      "Sales data for the last 2 days:\n",
      " [[350 500]\n",
      " [280 400]\n",
      " [270 350]\n",
      " [220 300]\n",
      " [120 180]]\n"
     ]
    }
   ],
   "source": [
    "# 6. Retrieve specific sales data\n",
    "product3_day4 = sales_data[2, 3]\n",
    "product1_all = sales_data[0, :]\n",
    "last_2_days = sales_data[:, -2:]\n",
    "print(\"\\nProduct 3 on Day 4:\", product3_day4)\n",
    "print(\"All sales for Product 1:\", product1_all)\n",
    "print(\"Sales data for the last 2 days:\\n\", last_2_days)"
   ]
  },
  {
   "cell_type": "code",
   "execution_count": 24,
   "id": "b19bcab4-90ca-471a-9d34-0d869836f765",
   "metadata": {},
   "outputs": [
    {
     "name": "stdout",
     "output_type": "stream",
     "text": [
      "\n",
      "Sales data for the first 3 products:\n",
      " [[150 200 250 300 400 350 500]\n",
      " [120 180 210 240 310 280 400]\n",
      " [100 130 190 220 300 270 350]]\n",
      "Sales data for the last 2 days:\n",
      " [[350 500]\n",
      " [280 400]\n",
      " [270 350]\n",
      " [220 300]\n",
      " [120 180]]\n"
     ]
    }
   ],
   "source": [
    "# 7. Extract specific parts\n",
    "first_3_products = sales_data[:3, :]\n",
    "sales_last_2_days = sales_data[:, -2:]\n",
    "print(\"\\nSales data for the first 3 products:\\n\", first_3_products)\n",
    "print(\"Sales data for the last 2 days:\\n\", sales_last_2_days)"
   ]
  },
  {
   "cell_type": "code",
   "execution_count": 26,
   "id": "fd1bff69-9a2f-45a4-8058-0210c5505acc",
   "metadata": {},
   "outputs": [
    {
     "name": "stdout",
     "output_type": "stream",
     "text": [
      "\n",
      "Transposed sales data:\n",
      " [[150 120 100  80  50]\n",
      " [200 180 130  90  60]\n",
      " [250 210 190 150  80]\n",
      " [300 240 220 180 100]\n",
      " [400 310 300 240 130]\n",
      " [350 280 270 220 120]\n",
      " [500 400 350 300 180]]\n"
     ]
    }
   ],
   "source": [
    "# 8. Transpose the array\n",
    "transposed_data = sales_data.T\n",
    "print(\"\\nTransposed sales data:\\n\", transposed_data)"
   ]
  },
  {
   "cell_type": "code",
   "execution_count": null,
   "id": "c123dda4-23b1-4c47-8197-f2cebebc434c",
   "metadata": {},
   "outputs": [],
   "source": []
  }
 ],
 "metadata": {
  "kernelspec": {
   "display_name": "Python [conda env:base] *",
   "language": "python",
   "name": "conda-base-py"
  },
  "language_info": {
   "codemirror_mode": {
    "name": "ipython",
    "version": 3
   },
   "file_extension": ".py",
   "mimetype": "text/x-python",
   "name": "python",
   "nbconvert_exporter": "python",
   "pygments_lexer": "ipython3",
   "version": "3.12.7"
  }
 },
 "nbformat": 4,
 "nbformat_minor": 5
}
