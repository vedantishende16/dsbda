{
 "cells": [
  {
   "cell_type": "code",
   "execution_count": 2,
   "id": "9dae7ca5-591f-42dc-8c3a-b1a8d8485831",
   "metadata": {},
   "outputs": [],
   "source": [
    "import pandas as pd\n",
    "import numpy as np\n",
    "from scipy import stats\n",
    "import matplotlib.pyplot as plt"
   ]
  },
  {
   "cell_type": "code",
   "execution_count": 6,
   "id": "60c54413-8ab6-4fe9-a2a2-539cff76dc77",
   "metadata": {},
   "outputs": [
    {
     "data": {
      "text/html": [
       "<div>\n",
       "<style scoped>\n",
       "    .dataframe tbody tr th:only-of-type {\n",
       "        vertical-align: middle;\n",
       "    }\n",
       "\n",
       "    .dataframe tbody tr th {\n",
       "        vertical-align: top;\n",
       "    }\n",
       "\n",
       "    .dataframe thead th {\n",
       "        text-align: right;\n",
       "    }\n",
       "</style>\n",
       "<table border=\"1\" class=\"dataframe\">\n",
       "  <thead>\n",
       "    <tr style=\"text-align: right;\">\n",
       "      <th></th>\n",
       "      <th>math score</th>\n",
       "      <th>reading score</th>\n",
       "      <th>writing score</th>\n",
       "      <th>placement score</th>\n",
       "      <th>club join year</th>\n",
       "      <th>placement offer count</th>\n",
       "    </tr>\n",
       "  </thead>\n",
       "  <tbody>\n",
       "    <tr>\n",
       "      <th>0</th>\n",
       "      <td>76</td>\n",
       "      <td>94</td>\n",
       "      <td>80</td>\n",
       "      <td>99</td>\n",
       "      <td>2020</td>\n",
       "      <td>3</td>\n",
       "    </tr>\n",
       "    <tr>\n",
       "      <th>1</th>\n",
       "      <td>70</td>\n",
       "      <td>77</td>\n",
       "      <td>72</td>\n",
       "      <td>85</td>\n",
       "      <td>2018</td>\n",
       "      <td>3</td>\n",
       "    </tr>\n",
       "    <tr>\n",
       "      <th>2</th>\n",
       "      <td>75</td>\n",
       "      <td>85</td>\n",
       "      <td>62</td>\n",
       "      <td>76</td>\n",
       "      <td>2021</td>\n",
       "      <td>2</td>\n",
       "    </tr>\n",
       "    <tr>\n",
       "      <th>3</th>\n",
       "      <td>66</td>\n",
       "      <td>77</td>\n",
       "      <td>63</td>\n",
       "      <td>79</td>\n",
       "      <td>2019</td>\n",
       "      <td>2</td>\n",
       "    </tr>\n",
       "    <tr>\n",
       "      <th>4</th>\n",
       "      <td>64</td>\n",
       "      <td>84</td>\n",
       "      <td>63</td>\n",
       "      <td>81</td>\n",
       "      <td>2020</td>\n",
       "      <td>2</td>\n",
       "    </tr>\n",
       "    <tr>\n",
       "      <th>5</th>\n",
       "      <td>76</td>\n",
       "      <td>88</td>\n",
       "      <td>70</td>\n",
       "      <td>79</td>\n",
       "      <td>2018</td>\n",
       "      <td>2</td>\n",
       "    </tr>\n",
       "    <tr>\n",
       "      <th>6</th>\n",
       "      <td>75</td>\n",
       "      <td>80</td>\n",
       "      <td>77</td>\n",
       "      <td>93</td>\n",
       "      <td>2019</td>\n",
       "      <td>3</td>\n",
       "    </tr>\n",
       "    <tr>\n",
       "      <th>7</th>\n",
       "      <td>68</td>\n",
       "      <td>76</td>\n",
       "      <td>66</td>\n",
       "      <td>100</td>\n",
       "      <td>2018</td>\n",
       "      <td>3</td>\n",
       "    </tr>\n",
       "    <tr>\n",
       "      <th>8</th>\n",
       "      <td>69</td>\n",
       "      <td>79</td>\n",
       "      <td>63</td>\n",
       "      <td>78</td>\n",
       "      <td>2019</td>\n",
       "      <td>2</td>\n",
       "    </tr>\n",
       "    <tr>\n",
       "      <th>9</th>\n",
       "      <td>68</td>\n",
       "      <td>87</td>\n",
       "      <td>77</td>\n",
       "      <td>78</td>\n",
       "      <td>2018</td>\n",
       "      <td>2</td>\n",
       "    </tr>\n",
       "    <tr>\n",
       "      <th>10</th>\n",
       "      <td>79</td>\n",
       "      <td>84</td>\n",
       "      <td>80</td>\n",
       "      <td>99</td>\n",
       "      <td>2019</td>\n",
       "      <td>3</td>\n",
       "    </tr>\n",
       "    <tr>\n",
       "      <th>11</th>\n",
       "      <td>75</td>\n",
       "      <td>87</td>\n",
       "      <td>75</td>\n",
       "      <td>94</td>\n",
       "      <td>2021</td>\n",
       "      <td>3</td>\n",
       "    </tr>\n",
       "    <tr>\n",
       "      <th>12</th>\n",
       "      <td>65</td>\n",
       "      <td>94</td>\n",
       "      <td>65</td>\n",
       "      <td>94</td>\n",
       "      <td>2018</td>\n",
       "      <td>3</td>\n",
       "    </tr>\n",
       "    <tr>\n",
       "      <th>13</th>\n",
       "      <td>66</td>\n",
       "      <td>93</td>\n",
       "      <td>78</td>\n",
       "      <td>90</td>\n",
       "      <td>2021</td>\n",
       "      <td>3</td>\n",
       "    </tr>\n",
       "    <tr>\n",
       "      <th>14</th>\n",
       "      <td>69</td>\n",
       "      <td>92</td>\n",
       "      <td>71</td>\n",
       "      <td>89</td>\n",
       "      <td>2019</td>\n",
       "      <td>3</td>\n",
       "    </tr>\n",
       "    <tr>\n",
       "      <th>15</th>\n",
       "      <td>74</td>\n",
       "      <td>80</td>\n",
       "      <td>75</td>\n",
       "      <td>87</td>\n",
       "      <td>2019</td>\n",
       "      <td>3</td>\n",
       "    </tr>\n",
       "    <tr>\n",
       "      <th>16</th>\n",
       "      <td>67</td>\n",
       "      <td>92</td>\n",
       "      <td>79</td>\n",
       "      <td>93</td>\n",
       "      <td>2019</td>\n",
       "      <td>3</td>\n",
       "    </tr>\n",
       "  </tbody>\n",
       "</table>\n",
       "</div>"
      ],
      "text/plain": [
       "    math score  reading score  writing score  placement score  club join year  \\\n",
       "0           76             94             80               99            2020   \n",
       "1           70             77             72               85            2018   \n",
       "2           75             85             62               76            2021   \n",
       "3           66             77             63               79            2019   \n",
       "4           64             84             63               81            2020   \n",
       "5           76             88             70               79            2018   \n",
       "6           75             80             77               93            2019   \n",
       "7           68             76             66              100            2018   \n",
       "8           69             79             63               78            2019   \n",
       "9           68             87             77               78            2018   \n",
       "10          79             84             80               99            2019   \n",
       "11          75             87             75               94            2021   \n",
       "12          65             94             65               94            2018   \n",
       "13          66             93             78               90            2021   \n",
       "14          69             92             71               89            2019   \n",
       "15          74             80             75               87            2019   \n",
       "16          67             92             79               93            2019   \n",
       "\n",
       "    placement offer count  \n",
       "0                       3  \n",
       "1                       3  \n",
       "2                       2  \n",
       "3                       2  \n",
       "4                       2  \n",
       "5                       2  \n",
       "6                       3  \n",
       "7                       3  \n",
       "8                       2  \n",
       "9                       2  \n",
       "10                      3  \n",
       "11                      3  \n",
       "12                      3  \n",
       "13                      3  \n",
       "14                      3  \n",
       "15                      3  \n",
       "16                      3  "
      ]
     },
     "execution_count": 6,
     "metadata": {},
     "output_type": "execute_result"
    }
   ],
   "source": [
    "data=pd.read_csv('StudentPerformance.csv')\n",
    "data"
   ]
  },
  {
   "cell_type": "code",
   "execution_count": 12,
   "id": "03ff4b5c-a659-4e6c-a155-04477fa8b6c9",
   "metadata": {},
   "outputs": [
    {
     "data": {
      "image/png": "[encoded data removed]",
      "text/plain": [
       "<Figure size 1800x1000 with 1 Axes>"
      ]
     },
     "metadata": {},
     "output_type": "display_data"
    },
    {
     "name": "stdout",
     "output_type": "stream",
     "text": [
      "(array([], dtype=int64),)\n",
      "(array([], dtype=int64),)\n"
     ]
    }
   ],
   "source": [
    "fig, ax = plt.subplots(figsize = (18,10))\n",
    "ax.scatter(data['placement score'], data['placement offer count'])\n",
    "plt.show()\n",
    "print(np.where((data['placement score']<50) & (data['placement offer count']>1)))\n",
    "print(np.where((data['placement score']>85) & (data['placement offer count']<3)))"
   ]
  },
  {
   "cell_type": "code",
   "execution_count": 14,
   "id": "086feb84-dac1-4307-a792-d757c03f967d",
   "metadata": {},
   "outputs": [
    {
     "data": {
      "text/plain": [
       "0     1.170907\n",
       "1     0.156121\n",
       "2     0.949735\n",
       "3     1.040806\n",
       "4     1.483148\n",
       "5     1.170907\n",
       "6     0.949735\n",
       "7     0.598463\n",
       "8     0.377292\n",
       "9     0.598463\n",
       "10    1.834420\n",
       "11    0.949735\n",
       "12    1.261977\n",
       "13    1.040806\n",
       "14    0.377292\n",
       "15    0.728564\n",
       "16    0.819635\n",
       "Name: math score, dtype: float64"
      ]
     },
     "execution_count": 14,
     "metadata": {},
     "output_type": "execute_result"
    }
   ],
   "source": [
    "z = np.abs(stats.zscore(data['math score']))\n",
    "z"
   ]
  },
  {
   "cell_type": "code",
   "execution_count": 16,
   "id": "c4b002d1-945d-450c-802f-11bcfff07a7f",
   "metadata": {},
   "outputs": [
    {
     "data": {
      "image/png": "[encoded data removed]",
      "text/plain": [
       "<Figure size 640x480 with 1 Axes>"
      ]
     },
     "metadata": {},
     "output_type": "display_data"
    }
   ],
   "source": [
    "col = ['math score', 'reading score' ,'writing score','placement score']\n",
    "data.boxplot(column=col)\n",
    "plt.show()"
   ]
  },
  {
   "cell_type": "code",
   "execution_count": 18,
   "id": "3377a664-624a-407d-8e4a-7028f0212585",
   "metadata": {},
   "outputs": [
    {
     "name": "stdout",
     "output_type": "stream",
     "text": [
      "[76, 77, 77, 79, 80, 80, 84, 84, 85, 87, 87, 88, 92, 92, 93, 94, 94]\n"
     ]
    }
   ],
   "source": [
    "sortedReadingScore= sorted(data['reading score'])\n",
    "print(sortedReadingScore)"
   ]
  },
  {
   "cell_type": "code",
   "execution_count": 20,
   "id": "d1c93827-8a39-4f1f-ac9a-1bf43227fc8b",
   "metadata": {},
   "outputs": [
    {
     "name": "stdout",
     "output_type": "stream",
     "text": [
      "Q1:  80.0 Q3:  92.0\n"
     ]
    }
   ],
   "source": [
    "q1 = np.percentile(sortedReadingScore, 25)\n",
    "q3 = np.percentile(sortedReadingScore, 75)\n",
    "print(\"Q1: \",q1,\"Q3: \",q3)"
   ]
  },
  {
   "cell_type": "code",
   "execution_count": 22,
   "id": "c966cd36-7f73-4aa9-96c0-69aa550efdd5",
   "metadata": {},
   "outputs": [
    {
     "name": "stdout",
     "output_type": "stream",
     "text": [
      "Lower Bound:  62.0 Upper Bound:  110.0\n"
     ]
    }
   ],
   "source": [
    "IQR = q3-q1\n",
    "lowerBound = q1-(1.5*IQR)\n",
    "upperBound = q3+(1.5*IQR)\n",
    "print(\"Lower Bound: \",lowerBound,\"Upper Bound: \", upperBound)"
   ]
  },
  {
   "cell_type": "code",
   "execution_count": 24,
   "id": "c5614f26-9a43-45b5-8632-422f2dbb3f36",
   "metadata": {},
   "outputs": [
    {
     "name": "stdout",
     "output_type": "stream",
     "text": [
      "[]\n"
     ]
    }
   ],
   "source": [
    "readingOutliers = []\n",
    "for i in sortedReadingScore:\n",
    "    \n",
    "    if (i<lowerBound or i>upperBound):\n",
    "        print(i)\n",
    "        readingOutliers.append(i)\n",
    "print(readingOutliers)"
   ]
  },
  {
   "cell_type": "code",
   "execution_count": null,
   "id": "43fa04eb-4bfd-4db4-b69b-d0017df4c3d4",
   "metadata": {},
   "outputs": [],
   "source": []
  }
 ],
 "metadata": {
  "kernelspec": {
   "display_name": "Python [conda env:base] *",
   "language": "python",
   "name": "conda-base-py"
  },
  "language_info": {
   "codemirror_mode": {
    "name": "ipython",
    "version": 3
   },
   "file_extension": ".py",
   "mimetype": "text/x-python",
   "name": "python",
   "nbconvert_exporter": "python",
   "pygments_lexer": "ipython3",
   "version": "3.12.7"
  }
 },
 "nbformat": 4,
 "nbformat_minor": 5
}
