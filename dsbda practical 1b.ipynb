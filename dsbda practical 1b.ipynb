{
 "cells": [
  {
   "cell_type": "code",
   "execution_count": 2,
   "id": "f4c7f300-c56a-45e9-94e7-32b8d1b756a2",
   "metadata": {},
   "outputs": [],
   "source": [
    "import pandas as pd"
   ]
  },
  {
   "cell_type": "code",
   "execution_count": 4,
   "id": "c55dcfaf-dcb7-4880-b63f-07019a080c97",
   "metadata": {},
   "outputs": [],
   "source": [
    "# Data\n",
    "data = {\n",
    "    \"Match 1\": [45, 60, 20, 80, 55],\n",
    "    \"Match 2\": [30, 50, 40, 90, 65],\n",
    "    \"Match 3\": [70, 20, 35, 60, 40],\n",
    "    \"Match 4\": [25, 45, 15, 100, 75],\n",
    "}\n",
    "players = [\"Player 1\", \"Player 2\", \"Player 3\", \"Player 4\", \"Player 5\"]\n",
    "performance = pd.DataFrame(data, index=players)"
   ]
  },
  {
   "cell_type": "code",
   "execution_count": 6,
   "id": "0b3403d2-2678-4dcd-8a1e-db8a3b92b39c",
   "metadata": {},
   "outputs": [
    {
     "name": "stdout",
     "output_type": "stream",
     "text": [
      "1. First 3 rows:\n",
      "           Match 1  Match 2  Match 3  Match 4\n",
      "Player 1       45       30       70       25\n",
      "Player 2       60       50       20       45\n",
      "Player 3       20       40       35       15\n"
     ]
    }
   ],
   "source": [
    "# 1. First three rows\n",
    "print(\"1. First 3 rows:\\n\", performance.head(3))"
   ]
  },
  {
   "cell_type": "code",
   "execution_count": 8,
   "id": "9cf7876c-19b8-462f-9240-e2e360e84202",
   "metadata": {},
   "outputs": [
    {
     "name": "stdout",
     "output_type": "stream",
     "text": [
      "\n",
      "2. Shape (players, matches): (5, 4)\n"
     ]
    }
   ],
   "source": [
    "# 2. Number of players and matches\n",
    "print(\"\\n2. Shape (players, matches):\", performance.shape)"
   ]
  },
  {
   "cell_type": "code",
   "execution_count": 10,
   "id": "254edb5c-f60f-4b32-8172-5c874b082fd6",
   "metadata": {},
   "outputs": [
    {
     "name": "stdout",
     "output_type": "stream",
     "text": [
      "\n",
      "3. Match names: ['Match 1', 'Match 2', 'Match 3', 'Match 4']\n",
      "   Player names: ['Player 1', 'Player 2', 'Player 3', 'Player 4', 'Player 5']\n"
     ]
    }
   ],
   "source": [
    "# 3. Match names and player names\n",
    "print(\"\\n3. Match names:\", list(performance.columns))\n",
    "print(\"   Player names:\", list(performance.index))"
   ]
  },
  {
   "cell_type": "code",
   "execution_count": 12,
   "id": "cf30449b-4202-426d-b6e1-d310e93a4885",
   "metadata": {},
   "outputs": [
    {
     "name": "stdout",
     "output_type": "stream",
     "text": [
      "\n",
      "4. Data types:\n",
      " Match 1    int64\n",
      "Match 2    int64\n",
      "Match 3    int64\n",
      "Match 4    int64\n",
      "dtype: object\n"
     ]
    }
   ],
   "source": [
    "# 4. Data type of elements\n",
    "print(\"\\n4. Data types:\\n\", performance.dtypes)\n"
   ]
  },
  {
   "cell_type": "code",
   "execution_count": 14,
   "id": "7156eac2-782d-421c-beb6-d7f90b23d132",
   "metadata": {},
   "outputs": [
    {
     "name": "stdout",
     "output_type": "stream",
     "text": [
      "\n",
      "5. Missing values:\n",
      " Match 1    0\n",
      "Match 2    0\n",
      "Match 3    0\n",
      "Match 4    0\n",
      "dtype: int64\n"
     ]
    }
   ],
   "source": [
    "# 5. Check for missing values\n",
    "print(\"\\n5. Missing values:\\n\", performance.isnull().sum())\n"
   ]
  },
  {
   "cell_type": "code",
   "execution_count": 16,
   "id": "ba941167-06a6-4be8-b14c-ad74a9e2a86d",
   "metadata": {},
   "outputs": [
    {
     "name": "stdout",
     "output_type": "stream",
     "text": [
      "\n",
      "6. Player 4 scores:\n",
      " Match 1     80\n",
      "Match 2     90\n",
      "Match 3     60\n",
      "Match 4    100\n",
      "Name: Player 4, dtype: int64\n"
     ]
    }
   ],
   "source": [
    "# 6. Scores of Player 4\n",
    "print(\"\\n6. Player 4 scores:\\n\", performance.loc[\"Player 4\"])\n"
   ]
  },
  {
   "cell_type": "code",
   "execution_count": 18,
   "id": "edbdd469-173e-4df2-9aaf-62da56eeff93",
   "metadata": {},
   "outputs": [
    {
     "name": "stdout",
     "output_type": "stream",
     "text": [
      "\n",
      "7. Match 2 scores:\n",
      " Player 1    30\n",
      "Player 2    50\n",
      "Player 3    40\n",
      "Player 4    90\n",
      "Player 5    65\n",
      "Name: Match 2, dtype: int64\n"
     ]
    }
   ],
   "source": [
    "# 7. Scores in Match 2\n",
    "print(\"\\n7. Match 2 scores:\\n\", performance[\"Match 2\"])\n"
   ]
  },
  {
   "cell_type": "code",
   "execution_count": 20,
   "id": "3dce40b2-ea76-46e4-97da-2c31cdce1436",
   "metadata": {},
   "outputs": [
    {
     "name": "stdout",
     "output_type": "stream",
     "text": [
      "\n",
      "8. Player 1 & 3, Match 1 & 4:\n",
      "           Match 1  Match 4\n",
      "Player 1       45       25\n",
      "Player 3       20       15\n"
     ]
    }
   ],
   "source": [
    "# 8. Player 1 & 3 scores in Match 1 & 4\n",
    "print(\"\\n8. Player 1 & 3, Match 1 & 4:\\n\", performance.loc[[\"Player 1\", \"Player 3\"], [\"Match 1\", \"Match 4\"]])"
   ]
  },
  {
   "cell_type": "code",
   "execution_count": 22,
   "id": "117f795f-e4ff-4b99-ab4b-14d4d795505d",
   "metadata": {},
   "outputs": [
    {
     "name": "stdout",
     "output_type": "stream",
     "text": [
      "\n",
      "9. Slice: First 3 players, 2 matches:\n",
      "           Match 1  Match 2\n",
      "Player 1       45       30\n",
      "Player 2       60       50\n",
      "Player 3       20       40\n"
     ]
    }
   ],
   "source": [
    "# 9. First 3 players and first 2 matches\n",
    "print(\"\\n9. Slice: First 3 players, 2 matches:\\n\", performance.iloc[:3, :2])"
   ]
  },
  {
   "cell_type": "code",
   "execution_count": 24,
   "id": "4f24abf3-f2b6-431a-9376-de6a232d6261",
   "metadata": {},
   "outputs": [
    {
     "name": "stdout",
     "output_type": "stream",
     "text": [
      "\n",
      "10. Player 5, Match 3: 40\n"
     ]
    }
   ],
   "source": [
    "# 10. Player 5, Match 3\n",
    "print(\"\\n10. Player 5, Match 3:\", performance.loc[\"Player 5\", \"Match 3\"])"
   ]
  },
  {
   "cell_type": "code",
   "execution_count": 26,
   "id": "61355953-4e3e-405b-b5fa-e29b3cd88d18",
   "metadata": {},
   "outputs": [
    {
     "name": "stdout",
     "output_type": "stream",
     "text": [
      "\n",
      "11. Updated Player 2, Match 4 to 50:\n",
      "           Match 1  Match 2  Match 3  Match 4\n",
      "Player 1       45       30       70       25\n",
      "Player 2       60       50       20       50\n",
      "Player 3       20       40       35       15\n",
      "Player 4       80       90       60      100\n",
      "Player 5       55       65       40       75\n"
     ]
    }
   ],
   "source": [
    "# 11. Update Player 2, Match 4 to 50\n",
    "performance.loc[\"Player 2\", \"Match 4\"] = 50\n",
    "print(\"\\n11. Updated Player 2, Match 4 to 50:\\n\", performance)\n"
   ]
  },
  {
   "cell_type": "code",
   "execution_count": 28,
   "id": "74035edc-58d4-4ea8-ac70-1e61cb0174b9",
   "metadata": {},
   "outputs": [
    {
     "name": "stdout",
     "output_type": "stream",
     "text": [
      "\n",
      "12. Added Player 6:\n",
      "           Match 1  Match 2  Match 3  Match 4\n",
      "Player 1       45       30       70       25\n",
      "Player 2       60       50       20       50\n",
      "Player 3       20       40       35       15\n",
      "Player 4       80       90       60      100\n",
      "Player 5       55       65       40       75\n",
      "Player 6       50       40       60       70\n"
     ]
    }
   ],
   "source": [
    "# 12. Add Player 6\n",
    "performance.loc[\"Player 6\"] = [50, 40, 60, 70]\n",
    "print(\"\\n12. Added Player 6:\\n\", performance)\n"
   ]
  },
  {
   "cell_type": "code",
   "execution_count": 30,
   "id": "4b98d619-cd84-47c2-95ea-8899048be2a6",
   "metadata": {},
   "outputs": [
    {
     "name": "stdout",
     "output_type": "stream",
     "text": [
      "\n",
      "13. After adding 10 bonus runs:\n",
      "           Match 1  Match 2  Match 3  Match 4\n",
      "Player 1       55       40       80       35\n",
      "Player 2       70       60       30       60\n",
      "Player 3       30       50       45       25\n",
      "Player 4       90      100       70      110\n",
      "Player 5       65       75       50       85\n",
      "Player 6       60       50       70       80\n"
     ]
    }
   ],
   "source": [
    "# 13. Add 10 bonus runs to all\n",
    "performance += 10\n",
    "print(\"\\n13. After adding 10 bonus runs:\\n\", performance)\n"
   ]
  },
  {
   "cell_type": "code",
   "execution_count": 32,
   "id": "dbfc7035-e3e3-428b-b67e-09137131796b",
   "metadata": {},
   "outputs": [
    {
     "name": "stdout",
     "output_type": "stream",
     "text": [
      "\n",
      "14. After deducting 5 from Player 3:\n",
      "           Match 1  Match 2  Match 3  Match 4\n",
      "Player 1       55       40       80       35\n",
      "Player 2       70       60       30       60\n",
      "Player 3       25       45       40       20\n",
      "Player 4       90      100       70      110\n",
      "Player 5       65       75       50       85\n",
      "Player 6       60       50       70       80\n"
     ]
    }
   ],
   "source": [
    "# 14. Deduct 5 from Player 3\n",
    "performance.loc[\"Player 3\"] -= 5\n",
    "print(\"\\n14. After deducting 5 from Player 3:\\n\", performance)\n"
   ]
  },
  {
   "cell_type": "code",
   "execution_count": 34,
   "id": "b84d3c39-6c7c-4b03-af1c-f7d1befee3fe",
   "metadata": {},
   "outputs": [
    {
     "name": "stdout",
     "output_type": "stream",
     "text": [
      "\n",
      "15. Percentage contribution per match:\n",
      "           Match 1  Match 2  Match 3  Match 4\n",
      "Player 1    45.83    33.33    66.67    29.17\n",
      "Player 2    58.33    50.00    25.00    50.00\n",
      "Player 3    20.83    37.50    33.33    16.67\n",
      "Player 4    75.00    83.33    58.33    91.67\n",
      "Player 5    54.17    62.50    41.67    70.83\n",
      "Player 6    50.00    41.67    58.33    66.67\n"
     ]
    }
   ],
   "source": [
    "# 15. % Contribution (max 120 per match)\n",
    "percentage = (performance / 120) * 100\n",
    "print(\"\\n15. Percentage contribution per match:\\n\", percentage.round(2))"
   ]
  },
  {
   "cell_type": "code",
   "execution_count": 36,
   "id": "5ea1286a-c13f-471b-9e54-e2a72a4239f1",
   "metadata": {},
   "outputs": [
    {
     "name": "stdout",
     "output_type": "stream",
     "text": [
      "\n",
      "16. Total runs by player:\n",
      " Player 1    210\n",
      "Player 2    220\n",
      "Player 3    130\n",
      "Player 4    370\n",
      "Player 5    275\n",
      "Player 6    260\n",
      "dtype: int64\n"
     ]
    }
   ],
   "source": [
    "# 16. Total runs by each player\n",
    "print(\"\\n16. Total runs by player:\\n\", performance.sum(axis=1))"
   ]
  },
  {
   "cell_type": "code",
   "execution_count": 38,
   "id": "00fbceae-a0f9-49b3-9225-9cce593d262c",
   "metadata": {},
   "outputs": [
    {
     "name": "stdout",
     "output_type": "stream",
     "text": [
      "\n",
      "17. Total runs per match:\n",
      " Match 1    365\n",
      "Match 2    370\n",
      "Match 3    340\n",
      "Match 4    390\n",
      "dtype: int64\n"
     ]
    }
   ],
   "source": [
    "# 17. Total runs in each match\n",
    "print(\"\\n17. Total runs per match:\\n\", performance.sum())\n"
   ]
  },
  {
   "cell_type": "code",
   "execution_count": 40,
   "id": "3d698a02-7402-4e9e-9290-63ac4ee20e82",
   "metadata": {},
   "outputs": [
    {
     "name": "stdout",
     "output_type": "stream",
     "text": [
      "\n",
      "18. Highest total runs:\n",
      " Player 4\n"
     ]
    }
   ],
   "source": [
    "# 18. Player with highest total\n",
    "print(\"\\n18. Highest total runs:\\n\", performance.sum(axis=1).idxmax())"
   ]
  },
  {
   "cell_type": "code",
   "execution_count": 42,
   "id": "29b76835-914a-418c-963f-3ddbc8a99319",
   "metadata": {},
   "outputs": [
    {
     "name": "stdout",
     "output_type": "stream",
     "text": [
      "\n",
      "19. Lowest scoring match:\n",
      " Match 3\n"
     ]
    }
   ],
   "source": [
    "# 19. Match with lowest total\n",
    "print(\"\\n19. Lowest scoring match:\\n\", performance.sum().idxmin())"
   ]
  },
  {
   "cell_type": "code",
   "execution_count": 44,
   "id": "1533096b-d771-4f04-8ae7-ef310cf89d0c",
   "metadata": {},
   "outputs": [
    {
     "name": "stdout",
     "output_type": "stream",
     "text": [
      "\n",
      "20. Average runs per player:\n",
      " Player 1    52.50\n",
      "Player 2    55.00\n",
      "Player 3    32.50\n",
      "Player 4    92.50\n",
      "Player 5    68.75\n",
      "Player 6    65.00\n",
      "dtype: float64\n"
     ]
    }
   ],
   "source": [
    "# 20. Average runs per player\n",
    "print(\"\\n20. Average runs per player:\\n\", performance.mean(axis=1).round(2))"
   ]
  },
  {
   "cell_type": "code",
   "execution_count": 46,
   "id": "576c84ef-6b48-42fd-8704-cf29d95b4b88",
   "metadata": {},
   "outputs": [
    {
     "name": "stdout",
     "output_type": "stream",
     "text": [
      "\n",
      "21. With 'Total Runs' column:\n",
      "           Match 1  Match 2  Match 3  Match 4  Total Runs\n",
      "Player 1       55       40       80       35         210\n",
      "Player 2       70       60       30       60         220\n",
      "Player 3       25       45       40       20         130\n",
      "Player 4       90      100       70      110         370\n",
      "Player 5       65       75       50       85         275\n",
      "Player 6       60       50       70       80         260\n"
     ]
    }
   ],
   "source": [
    "# 21. Add \"Total Runs\" column\n",
    "performance[\"Total Runs\"] = performance.sum(axis=1)\n",
    "print(\"\\n21. With 'Total Runs' column:\\n\", performance)\n"
   ]
  },
  {
   "cell_type": "code",
   "execution_count": 48,
   "id": "059ed622-0fc2-4cd4-879f-26f1c0a34bc0",
   "metadata": {},
   "outputs": [
    {
     "name": "stdout",
     "output_type": "stream",
     "text": [
      "\n",
      "22. Sorted by Total Runs (desc):\n",
      "           Match 1  Match 2  Match 3  Match 4  Total Runs\n",
      "Player 4       90      100       70      110         370\n",
      "Player 5       65       75       50       85         275\n",
      "Player 6       60       50       70       80         260\n",
      "Player 2       70       60       30       60         220\n",
      "Player 1       55       40       80       35         210\n",
      "Player 3       25       45       40       20         130\n"
     ]
    }
   ],
   "source": [
    "# 22. Sort by Total Runs (descending)\n",
    "sorted_df = performance.sort_values(by=\"Total Runs\", ascending=False)\n",
    "print(\"\\n22. Sorted by Total Runs (desc):\\n\", sorted_df)\n"
   ]
  },
  {
   "cell_type": "code",
   "execution_count": 50,
   "id": "8d1f70f9-e086-4252-862f-71d9d82f3b18",
   "metadata": {},
   "outputs": [
    {
     "name": "stdout",
     "output_type": "stream",
     "text": [
      "\n",
      "23. Players with total > 200:\n",
      "           Match 1  Match 2  Match 3  Match 4  Total Runs\n",
      "Player 1       55       40       80       35         210\n",
      "Player 2       70       60       30       60         220\n",
      "Player 4       90      100       70      110         370\n",
      "Player 5       65       75       50       85         275\n",
      "Player 6       60       50       70       80         260\n"
     ]
    }
   ],
   "source": [
    "# 23. Players with total > 200\n",
    "print(\"\\n23. Players with total > 200:\\n\", performance[performance[\"Total Runs\"] > 200])"
   ]
  },
  {
   "cell_type": "code",
   "execution_count": null,
   "id": "8135246b-21e4-4c94-beeb-67e3dd7c4f2e",
   "metadata": {},
   "outputs": [],
   "source": []
  }
 ],
 "metadata": {
  "kernelspec": {
   "display_name": "Python [conda env:base] *",
   "language": "python",
   "name": "conda-base-py"
  },
  "language_info": {
   "codemirror_mode": {
    "name": "ipython",
    "version": 3
   },
   "file_extension": ".py",
   "mimetype": "text/x-python",
   "name": "python",
   "nbconvert_exporter": "python",
   "pygments_lexer": "ipython3",
   "version": "3.12.7"
  }
 },
 "nbformat": 4,
 "nbformat_minor": 5
}
